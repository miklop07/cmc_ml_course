{
 "cells": [
  {
   "cell_type": "code",
   "execution_count": 1,
   "id": "82c2668f",
   "metadata": {},
   "outputs": [],
   "source": [
    "import pandas as pd\n",
    "\n",
    "from sklearn.model_selection import train_test_split\n",
    "from sklearn.linear_model import Lasso\n",
    "from sklearn.linear_model import Ridge\n",
    "\n",
    "from sklearn.metrics import mean_squared_error\n",
    "from sklearn.metrics import mean_absolute_error\n",
    "from sklearn.metrics import r2_score\n",
    "\n",
    "from sklearn.model_selection import GridSearchCV\n",
    "from sklearn.model_selection import KFold\n",
    "from sklearn.metrics import make_scorer\n",
    "\n",
    "import numpy as np\n",
    "\n",
    "from matplotlib import pyplot as plt\n",
    "\n",
    "from sklearn.tree import DecisionTreeRegressor\n",
    "from catboost import CatBoostRegressor"
   ]
  },
  {
   "cell_type": "code",
   "execution_count": 4,
   "id": "f9eaa27c",
   "metadata": {},
   "outputs": [],
   "source": [
    "df = pd.read_csv('winequality-red.csv')"
   ]
  },
  {
   "cell_type": "code",
   "execution_count": 5,
   "id": "406ed1c3",
   "metadata": {},
   "outputs": [],
   "source": [
    "x = df.iloc[:,:-1]\n",
    "y = df.iloc[:,-1]\n",
    "\n",
    "X_train, X_test, y_train, y_test = train_test_split(x, y, train_size=0.6, random_state=100500)"
   ]
  },
  {
   "cell_type": "code",
   "execution_count": 6,
   "id": "fe823b74",
   "metadata": {},
   "outputs": [
    {
     "data": {
      "text/plain": [
       "GridSearchCV(cv=KFold(n_splits=3, random_state=318, shuffle=True),\n",
       "             estimator=Lasso(),\n",
       "             param_grid={'alpha': array([1.00000000e-03, 1.07189132e-03, 1.14895100e-03, 1.23155060e-03,\n",
       "       1.32008840e-03, 1.41499130e-03, 1.51671689e-03, 1.62575567e-03,\n",
       "       1.74263339e-03, 1.86791360e-03, 2.00220037e-03, 2.14614120e-03,\n",
       "       2.30043012e-03, 2.46581108e-03, 2.64308149e-03, 2.83309610e-03,\n",
       "       3...\n",
       "       2.02550194e+02, 2.17111795e+02, 2.32720248e+02, 2.49450814e+02,\n",
       "       2.67384162e+02, 2.86606762e+02, 3.07211300e+02, 3.29297126e+02,\n",
       "       3.52970730e+02, 3.78346262e+02, 4.05546074e+02, 4.34701316e+02,\n",
       "       4.65952567e+02, 4.99450512e+02, 5.35356668e+02, 5.73844165e+02,\n",
       "       6.15098579e+02, 6.59318827e+02, 7.06718127e+02, 7.57525026e+02,\n",
       "       8.11984499e+02, 8.70359136e+02, 9.32930403e+02, 1.00000000e+03])},\n",
       "             scoring=make_scorer(r2_score))"
      ]
     },
     "execution_count": 6,
     "metadata": {},
     "output_type": "execute_result"
    }
   ],
   "source": [
    "mae = GridSearchCV(Lasso(), param_grid = {\"alpha\" : np.logspace(-3, 3, 200)}, cv = KFold(shuffle = True, random_state = 318, n_splits = 3), scoring = make_scorer(mean_absolute_error))\n",
    "mae.fit(X_train, y_train)\n",
    "\n",
    "rmse = GridSearchCV(Lasso(), param_grid = {\"alpha\" : np.logspace(-3, 3, 200)}, cv = KFold(shuffle = True, random_state = 318, n_splits = 3), scoring = make_scorer(mean_squared_error))\n",
    "rmse.fit(X_train, y_train)\n",
    "\n",
    "r2 = GridSearchCV(Lasso(), param_grid = {\"alpha\" : np.logspace(-3, 3, 200)}, cv = KFold(shuffle = True, random_state = 318, n_splits = 3), scoring = make_scorer(r2_score))\n",
    "r2.fit(X_train, y_train)"
   ]
  },
  {
   "cell_type": "code",
   "execution_count": 7,
   "id": "8224f032",
   "metadata": {},
   "outputs": [
    {
     "name": "stdout",
     "output_type": "stream",
     "text": [
      "Lasso\n",
      "RMSE : best score =  0.6370979928935858 , coef =  5.478901179593939\n",
      "MAE : best score =  0.6808180916743932 , coef =  5.478901179593939\n",
      "R2 : best score =  0.33872056699557235 , coef =  0.001\n"
     ]
    }
   ],
   "source": [
    "print(\"Lasso\")\n",
    "print(\"RMSE : best score = \", rmse.best_score_, \", coef = \", rmse.best_estimator_.alpha)\n",
    "print(\"MAE : best score = \", mae.best_score_, \", coef = \", mae.best_estimator_.alpha)\n",
    "print(\"R2 : best score = \", r2.best_score_, \", coef = \", r2.best_estimator_.alpha)"
   ]
  },
  {
   "cell_type": "code",
   "execution_count": 8,
   "id": "310dc2c7",
   "metadata": {},
   "outputs": [
    {
     "data": {
      "text/plain": [
       "GridSearchCV(cv=KFold(n_splits=3, random_state=318, shuffle=True),\n",
       "             estimator=Ridge(),\n",
       "             param_grid={'alpha': array([1.00000000e-03, 1.07189132e-03, 1.14895100e-03, 1.23155060e-03,\n",
       "       1.32008840e-03, 1.41499130e-03, 1.51671689e-03, 1.62575567e-03,\n",
       "       1.74263339e-03, 1.86791360e-03, 2.00220037e-03, 2.14614120e-03,\n",
       "       2.30043012e-03, 2.46581108e-03, 2.64308149e-03, 2.83309610e-03,\n",
       "       3...\n",
       "       2.02550194e+02, 2.17111795e+02, 2.32720248e+02, 2.49450814e+02,\n",
       "       2.67384162e+02, 2.86606762e+02, 3.07211300e+02, 3.29297126e+02,\n",
       "       3.52970730e+02, 3.78346262e+02, 4.05546074e+02, 4.34701316e+02,\n",
       "       4.65952567e+02, 4.99450512e+02, 5.35356668e+02, 5.73844165e+02,\n",
       "       6.15098579e+02, 6.59318827e+02, 7.06718127e+02, 7.57525026e+02,\n",
       "       8.11984499e+02, 8.70359136e+02, 9.32930403e+02, 1.00000000e+03])},\n",
       "             scoring=make_scorer(r2_score))"
      ]
     },
     "execution_count": 8,
     "metadata": {},
     "output_type": "execute_result"
    }
   ],
   "source": [
    "mae = GridSearchCV(Ridge(), param_grid = {\"alpha\" : np.logspace(-3, 3, 200)}, cv = KFold(shuffle = True, random_state = 318, n_splits = 3), scoring = make_scorer(mean_absolute_error))\n",
    "mae.fit(X_train, y_train)\n",
    "\n",
    "rmse = GridSearchCV(Ridge(), param_grid = {\"alpha\" : np.logspace(-3, 3, 200)}, cv = KFold(shuffle = True, random_state = 318, n_splits = 3), scoring = make_scorer(mean_squared_error))\n",
    "rmse.fit(X_train, y_train)\n",
    "\n",
    "r2 = GridSearchCV(Ridge(), param_grid = {\"alpha\" : np.logspace(-3, 3, 200)}, cv = KFold(shuffle = True, random_state = 318, n_splits = 3), scoring = make_scorer(r2_score))\n",
    "r2.fit(X_train, y_train)"
   ]
  },
  {
   "cell_type": "code",
   "execution_count": 9,
   "id": "2cc1129b",
   "metadata": {},
   "outputs": [
    {
     "name": "stdout",
     "output_type": "stream",
     "text": [
      "Ridge\n",
      "RMSE : best score =  0.5167003882715527 , coef =  1000.0\n",
      "MAE : best score =  0.5714197922215072 , coef =  1000.0\n",
      "R2 : best score =  0.34010236724033494 , coef =  0.5542664520663102\n"
     ]
    }
   ],
   "source": [
    "print(\"Ridge\")\n",
    "print(\"RMSE : best score = \", rmse.best_score_, \", coef = \", rmse.best_estimator_.alpha)\n",
    "print(\"MAE : best score = \", mae.best_score_, \", coef = \", mae.best_estimator_.alpha)\n",
    "print(\"R2 : best score = \", r2.best_score_, \", coef = \", r2.best_estimator_.alpha)"
   ]
  },
  {
   "cell_type": "code",
   "execution_count": 14,
   "id": "6b483cb9",
   "metadata": {},
   "outputs": [],
   "source": [
    "tree_model = DecisionTreeRegressor()\n",
    "tree_model.fit(X_train, y_train)\n",
    "y_pred = tree_model.predict(X_test)"
   ]
  },
  {
   "cell_type": "code",
   "execution_count": 15,
   "id": "3ebea6b2",
   "metadata": {},
   "outputs": [
    {
     "name": "stdout",
     "output_type": "stream",
     "text": [
      "DecisionTreeRegressor\n",
      "MSE :  0.5984375\n",
      "MAE :  0.4640625\n",
      "R2 :  0.11022055727374369\n"
     ]
    }
   ],
   "source": [
    "print(\"DecisionTreeRegressor\")\n",
    "print(\"MSE : \",  mean_squared_error(y_test, y_pred))\n",
    "print(\"MAE : \",  mean_absolute_error(y_test, y_pred))\n",
    "print(\"R2 : \",  r2_score(y_test, y_pred))"
   ]
  },
  {
   "cell_type": "code",
   "execution_count": 16,
   "id": "098cb1f7",
   "metadata": {},
   "outputs": [],
   "source": [
    "tree_model = CatBoostRegressor()\n",
    "tree_model.fit(X_train, y_train, silent=True)\n",
    "y_pred = tree_model.predict(X_test)"
   ]
  },
  {
   "cell_type": "code",
   "execution_count": 17,
   "id": "2c0e27ab",
   "metadata": {},
   "outputs": [
    {
     "name": "stdout",
     "output_type": "stream",
     "text": [
      "CatBoostRegressor\n",
      "MSE :  0.3712054142119149\n",
      "MAE :  0.44792764940224983\n",
      "R2 :  0.44807779159152494\n"
     ]
    }
   ],
   "source": [
    "print(\"CatBoostRegressor\")\n",
    "print(\"MSE : \",  mean_squared_error(y_test, y_pred))\n",
    "print(\"MAE : \",  mean_absolute_error(y_test, y_pred))\n",
    "print(\"R2 : \",  r2_score(y_test, y_pred))"
   ]
  },
  {
   "cell_type": "code",
   "execution_count": null,
   "id": "908f8084",
   "metadata": {},
   "outputs": [],
   "source": []
  }
 ],
 "metadata": {
  "kernelspec": {
   "display_name": "Python 3 (ipykernel)",
   "language": "python",
   "name": "python3"
  },
  "language_info": {
   "codemirror_mode": {
    "name": "ipython",
    "version": 3
   },
   "file_extension": ".py",
   "mimetype": "text/x-python",
   "name": "python",
   "nbconvert_exporter": "python",
   "pygments_lexer": "ipython3",
   "version": "3.8.10"
  }
 },
 "nbformat": 4,
 "nbformat_minor": 5
}
